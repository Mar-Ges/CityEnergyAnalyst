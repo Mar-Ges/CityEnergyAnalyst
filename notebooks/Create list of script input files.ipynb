{
 "cells": [
  {
   "cell_type": "markdown",
   "metadata": {},
   "source": [
    "This notebook goes through the schemas.yml file and attempts to guess the list of input files for each script and provide hints for the `scripts.yml`."
   ]
  },
  {
   "cell_type": "code",
   "execution_count": 17,
   "metadata": {},
   "outputs": [],
   "source": [
    "import cea.config\n",
    "import cea.inputlocator\n",
    "import cea.scripts\n",
    "import yaml\n",
    "import os\n",
    "import inspect"
   ]
  },
  {
   "cell_type": "code",
   "execution_count": 19,
   "metadata": {},
   "outputs": [],
   "source": [
    "config = cea.config.Configuration()\n",
    "locator = cea.inputlocator.InputLocator(scenario=config.scenario)"
   ]
  },
  {
   "cell_type": "code",
   "execution_count": 13,
   "metadata": {},
   "outputs": [],
   "source": [
    "# these are the input files we are working on\n",
    "cea_folder = os.path.join(os.path.dirname(cea.config.__file__))\n",
    "scripts_yml = os.path.join(cea_folder, 'scripts.yml')\n",
    "schemas_yml = os.path.join(cea_folder, 'schemas.yml')"
   ]
  },
  {
   "cell_type": "code",
   "execution_count": 14,
   "metadata": {},
   "outputs": [],
   "source": [
    "schemas = yaml.load(open(schemas_yml))"
   ]
  },
  {
   "cell_type": "code",
   "execution_count": 15,
   "metadata": {},
   "outputs": [],
   "source": [
    "# collect a list of input_files used by each script known to schemas.yml\n",
    "scripts = {}\n",
    "for k in schemas.keys():\n",
    "    if 'used_by' in schemas[k]:\n",
    "        for s in schemas[k]['used_by']:\n",
    "            scripts.setdefault(s, []).append(k)"
   ]
  },
  {
   "cell_type": "code",
   "execution_count": 23,
   "metadata": {},
   "outputs": [
    {
     "name": "stdout",
     "output_type": "stream",
     "text": [
      "['self']\n",
      "['self']\n",
      "['self']\n",
      "['self']\n"
     ]
    }
   ],
   "source": [
    "# test to see how we can figure out the \"easy\" methods\n",
    "for mname in scripts['data-helper']:\n",
    "    method = getattr(locator, mname)\n",
    "    print inspect.getargspec(method).args"
   ]
  },
  {
   "cell_type": "code",
   "execution_count": 28,
   "metadata": {},
   "outputs": [
    {
     "name": "stdout",
     "output_type": "stream",
     "text": [
      "sewage-potential\n",
      "  - [get_total_demand]\n",
      "  - [get_demand_results_file, building_name]\n",
      "data-helper\n",
      "  - [get_building_age]\n",
      "  - [get_building_occupancy]\n",
      "  - [get_archetypes_schedules]\n",
      "  - [get_archetypes_properties]\n",
      "network-layout\n",
      "  - [get_street_network]\n",
      "  - [get_total_demand]\n",
      "  - [get_zone_geometry]\n",
      "operation-costs\n",
      "  - [get_total_demand]\n",
      "  - [get_building_supply]\n",
      "  - [get_life_cycle_inventory_supply_systems]\n",
      "solar-collector\n",
      "  - [get_radiation_metadata, building_name]\n",
      "  - [get_zone_geometry]\n",
      "  - [get_radiation_building, building_name]\n",
      "  - [get_supply_systems]\n",
      "  - [get_weather, name]\n",
      "thermal-network\n",
      "  - [get_network_layout_nodes_shapefile, network_type, network_name]\n",
      "  - [get_demand_results_file, building_name]\n",
      "  - [get_thermal_networks]\n",
      "  - [get_supply_systems]\n",
      "  - [get_weather, name]\n",
      "photovoltaic-thermal\n",
      "  - [get_radiation_metadata, building_name]\n",
      "  - [get_zone_geometry]\n",
      "  - [get_radiation_building, building_name]\n",
      "  - [get_supply_systems]\n",
      "  - [get_weather, name]\n",
      "emissions\n",
      "  - [get_total_demand]\n",
      "  - [get_building_age]\n",
      "  - [get_building_architecture]\n",
      "  - [get_building_occupancy]\n",
      "  - [get_zone_geometry]\n",
      "  - [get_data_benchmark]\n",
      "  - [get_building_supply]\n",
      "  - [get_life_cycle_inventory_building_systems]\n",
      "  - [get_life_cycle_inventory_supply_systems]\n",
      "demand\n",
      "  - [get_envelope_systems]\n",
      "  - [get_building_comfort]\n",
      "  - [get_archetypes_system_controls]\n",
      "  - [get_building_internal]\n",
      "  - [get_building_age]\n",
      "  - [get_radiation_metadata, building_name]\n",
      "  - [get_building_architecture]\n",
      "  - [get_building_occupancy]\n",
      "  - [get_archetypes_schedules]\n",
      "  - [get_zone_geometry]\n",
      "  - [get_radiation_building, building_name]\n",
      "  - [get_archetypes_properties]\n",
      "  - [get_building_hvac]\n",
      "  - [get_technical_emission_systems]\n",
      "  - [get_building_supply]\n",
      "  - [get_life_cycle_inventory_supply_systems]\n",
      "  - [get_weather, name]\n",
      "radiation-daysim\n",
      "  - [get_envelope_systems]\n",
      "  - [get_district_geometry]\n",
      "  - [get_building_architecture]\n",
      "  - [get_zone_geometry]\n",
      "  - [get_terrain]\n",
      "  - [get_weather, name]\n",
      "photovoltaic\n",
      "  - [get_radiation_metadata, building_name]\n",
      "  - [get_zone_geometry]\n",
      "  - [get_radiation_building, building_name]\n",
      "  - [get_supply_systems]\n",
      "  - [get_weather, name]\n"
     ]
    }
   ],
   "source": [
    "for script in scripts.keys():\n",
    "    print script\n",
    "    for mname in scripts[script]:\n",
    "        method = getattr(locator, mname)\n",
    "        args = inspect.getargspec(method).args[1:]   # skip self\n",
    "        args = [a for a in args if not a in {'format'}]\n",
    "        print '  - [{ifdata}]'.format(ifdata=', '.join([mname] + args))"
   ]
  },
  {
   "cell_type": "markdown",
   "metadata": {},
   "source": [
    "some problematic methods:\n",
    "\n",
    "- get_radiation_building(building_name)\n",
    "  - check for the first building in the zone?\n",
    "  - use sequence of input files to ensure that the zone exists?\n",
    "  - (or just special case it?)\n",
    "  - also:\n",
    "    - get_radiation_metadata(building_name)\n",
    "- get_network_layout_nodes_shapefile(network_type, network_name)\n",
    "  - network_type, network_name are special and dependent on the script used\n",
    "  - solution: include fqnames as arguments"
   ]
  },
  {
   "cell_type": "code",
   "execution_count": 27,
   "metadata": {},
   "outputs": [
    {
     "data": {
      "text/plain": [
       "[{'description': 'Calculate the heat extracted from the Lake',\n",
       "  'interfaces': ['cli', 'arcgis', 'dashboard'],\n",
       "  'label': 'Lake potential',\n",
       "  'module': 'cea.resources.lake_potential',\n",
       "  'name': 'lake-potential',\n",
       "  'parameters': ['general:scenario', 'lake']},\n",
       " {'description': 'Calculate electricity & heat production from photovoltaic / thermal technologies',\n",
       "  'interfaces': ['cli', 'arcgis', 'dashboard'],\n",
       "  'label': 'Photovoltaic-thermal Panels',\n",
       "  'module': 'cea.technologies.solar.photovoltaic_thermal',\n",
       "  'name': 'photovoltaic-thermal',\n",
       "  'parameters': ['general:scenario',\n",
       "   'general:weather',\n",
       "   'general:multiprocessing',\n",
       "   'general:number-of-cpus-to-keep-free',\n",
       "   'solar:buildings',\n",
       "   'solar:type-pvpanel',\n",
       "   'solar:type-scpanel',\n",
       "   'solar:panel-on-roof',\n",
       "   'solar:panel-on-wall',\n",
       "   'solar:annual-radiation-threshold',\n",
       "   'solar:solar-window-solstice',\n",
       "   'solar:t-in-pvt']},\n",
       " {'description': 'Calculate electricity production from solar photovoltaic technologies',\n",
       "  'interfaces': ['cli', 'arcgis', 'dashboard'],\n",
       "  'label': 'Photovoltaic panels',\n",
       "  'module': 'cea.technologies.solar.photovoltaic',\n",
       "  'name': 'photovoltaic',\n",
       "  'parameters': ['general:scenario',\n",
       "   'general:weather',\n",
       "   'solar:type-pvpanel',\n",
       "   'solar:panel-on-roof',\n",
       "   'solar:panel-on-wall',\n",
       "   'solar:annual-radiation-threshold',\n",
       "   'solar:solar-window-solstice']},\n",
       " {'description': 'Calculate the heat extracted from the sewage heat exchanger.',\n",
       "  'input-files': ['get_total_demand', 'get_demand_results_file|B01'],\n",
       "  'interfaces': ['cli', 'arcgis', 'dashboard'],\n",
       "  'label': 'Sewage potential',\n",
       "  'module': 'cea.resources.sewage_heat_exchanger',\n",
       "  'name': 'sewage-potential',\n",
       "  'parameters': ['general:scenario', 'sewage']},\n",
       " {'description': 'Calculate heat production from solar collector technologies',\n",
       "  'interfaces': ['cli', 'arcgis', 'dashboard'],\n",
       "  'label': 'Solar collectors',\n",
       "  'module': 'cea.technologies.solar.solar_collector',\n",
       "  'name': 'solar-collector',\n",
       "  'parameters': ['general:scenario',\n",
       "   'general:weather',\n",
       "   'general:multiprocessing',\n",
       "   'general:number-of-cpus-to-keep-free',\n",
       "   'solar:type-scpanel',\n",
       "   'solar:panel-on-roof',\n",
       "   'solar:panel-on-wall',\n",
       "   'solar:annual-radiation-threshold',\n",
       "   'solar:solar-window-solstice',\n",
       "   'solar:t-in-sc',\n",
       "   'solar:buildings']},\n",
       " {'description': 'Use Daysim to calculate solar radiation for a scenario',\n",
       "  'interfaces': ['cli', 'arcgis', 'dashboard'],\n",
       "  'label': 'Solar radiation (Daysim engine)',\n",
       "  'module': 'cea.resources.radiation_daysim.radiation_main',\n",
       "  'name': 'radiation-daysim',\n",
       "  'parameters': ['general:scenario',\n",
       "   'general:weather',\n",
       "   'general:multiprocessing',\n",
       "   'general:debug',\n",
       "   'radiation-daysim']}]"
      ]
     },
     "execution_count": 27,
     "metadata": {},
     "output_type": "execute_result"
    }
   ],
   "source": [
    "yaml.load(open(scripts_yml))['Energy potentials']"
   ]
  },
  {
   "cell_type": "code",
   "execution_count": null,
   "metadata": {},
   "outputs": [],
   "source": []
  }
 ],
 "metadata": {
  "kernelspec": {
   "display_name": "Python 2",
   "language": "python",
   "name": "python2"
  },
  "language_info": {
   "codemirror_mode": {
    "name": "ipython",
    "version": 2
   },
   "file_extension": ".py",
   "mimetype": "text/x-python",
   "name": "python",
   "nbconvert_exporter": "python",
   "pygments_lexer": "ipython2",
   "version": "2.7.15"
  }
 },
 "nbformat": 4,
 "nbformat_minor": 2
}
